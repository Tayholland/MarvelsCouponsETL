{
 "cells": [
  {
   "cell_type": "code",
   "execution_count": 3,
   "metadata": {},
   "outputs": [],
   "source": [
    "import pandas as pd\n",
    "import psycopg2\n",
    "from io import StringIO"
   ]
  },
  {
   "cell_type": "code",
   "execution_count": 4,
   "metadata": {},
   "outputs": [],
   "source": [
    "# read in csv and check data\n",
    "df = pd.read_csv('marvels_coupons.csv')\n",
    "df.head(10)"
   ]
  },
  {
   "cell_type": "code",
   "execution_count": 60,
   "metadata": {
    "tags": []
   },
   "outputs": [],
   "source": [
    "# coupon codes are in four different columns append them into one series\n",
    "codes = pd.Series()\n",
    "for column in df:\n",
    "    codes = codes.append(df[column])\n",
    "# Add 'BM' string at the beginning of each code\n",
    "codes = codes.map('BM{}'.format)"
   ]
  },
  {
   "cell_type": "code",
   "execution_count": 59,
   "metadata": {
    "tags": []
   },
   "outputs": [],
   "source": [
    "# Move codes into dataframe with discount % (25%) and discount type (1 for each of these)\n",
    "df = pd.DataFrame(list(zip(codes,[25]*len(codes),[1]*len(codes))))"
   ]
  },
  {
   "cell_type": "code",
   "execution_count": 58,
   "metadata": {
    "tags": []
   },
   "outputs": [
    {
     "output_type": "stream",
     "name": "stdout",
     "text": "Connecting...\nConnected\nCopy Complete\n"
    }
   ],
   "source": [
    "postgres database parameters\n",
    "params = {\n",
    "    \"host\"      : \"localhost\",\n",
    "    \"database\"  : \"db\",\n",
    "    \"user\"      : \"user\",\n",
    "    \"password\"  : \"password\",\n",
    "    \"port\"      :  5432\n",
    "}\n",
    "\n",
    "def connect_db(params):\n",
    "    # connect to server\n",
    "    conn = None\n",
    "    try:\n",
    "        print('Connecting...')\n",
    "        conn = psycopg2.connect(**params)\n",
    "    except (Exception, psycopg2.DatabaseError) as error:\n",
    "        print(error)\n",
    "        sys.exit(1) \n",
    "    print('Connected')\n",
    "    return conn\n",
    "\n",
    "def copy_df(conn, df, table):\n",
    "    # initialize buffer\n",
    "    buffer = StringIO()\n",
    "    # copy dataframe to buffer in memory\n",
    "    df.to_csv(buffer, index=False, header=False)\n",
    "    buffer.seek(0)\n",
    "\n",
    "    cur = conn.cursor()\n",
    "    try:\n",
    "        cur.copy_from(buffer, table, sep=',')\n",
    "        conn.commit()\n",
    "    except (Exception, psycopg2.DatabaseError) as error:\n",
    "        print('Error: {}'.format(error))\n",
    "        conn.rollback()\n",
    "        return 1\n",
    "    print('Copy Complete')\n",
    "    cur.close()\n",
    "\n",
    "# connect to db\n",
    "conn = connect_db(params)\n",
    "# copy in dataframe\n",
    "copy_df(conn, df, 'coupons')\n",
    "# close connect to db\n",
    "conn.close()"
   ]
  }
 ],
 "metadata": {
  "language_info": {
   "codemirror_mode": {
    "name": "ipython",
    "version": 3
   },
   "file_extension": ".py",
   "mimetype": "text/x-python",
   "name": "python",
   "nbconvert_exporter": "python",
   "pygments_lexer": "ipython3",
   "version": "3.7.4-final"
  },
  "orig_nbformat": 2,
  "kernelspec": {
   "name": "python_defaultSpec_1595258748733",
   "display_name": "Python 3.7.4 64-bit ('base': conda)"
  }
 },
 "nbformat": 4,
 "nbformat_minor": 2
}